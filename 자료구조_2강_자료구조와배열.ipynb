{
 "cells": [
  {
   "cell_type": "code",
   "execution_count": 1,
   "id": "03d2a762",
   "metadata": {},
   "outputs": [
    {
     "name": "stdout",
     "output_type": "stream",
     "text": [
      "학생 그룹 점수의 합계와 평균을 구합니다.\n",
      "1번 학생의 점수를 입력하세요.: 32\n",
      "2번 학생의 점수를 입력하세요.: 68\n",
      "3번 학생의 점수를 입력하세요.: 72\n",
      "4번 학생의 점수를 입력하세요.: 54\n",
      "5번 학생의 점수를 입력하세요.: 92\n",
      "합계는 318점입니다.\n",
      "평균은 63.6점입니다.\n"
     ]
    }
   ],
   "source": [
    "#실습 2-1\n",
    "#학생 5명의 시험 점수를 입력받아 합계와 평균을 출력하기\n",
    "print('학생 그룹 점수의 합계와 평균을 구합니다.')\n",
    "score1 = int(input('1번 학생의 점수를 입력하세요.: '))\n",
    "score2 = int(input('2번 학생의 점수를 입력하세요.: '))\n",
    "score3 = int(input('3번 학생의 점수를 입력하세요.: '))\n",
    "score4 = int(input('4번 학생의 점수를 입력하세요.: '))\n",
    "score5 = int(input('5번 학생의 점수를 입력하세요.: '))\n",
    "\n",
    "total = 0\n",
    "total += score1\n",
    "total += score2\n",
    "total += score3\n",
    "total += score4\n",
    "total += score5\n",
    "\n",
    "print(f'합계는 {total}점입니다.')\n",
    "print(f'평균은 {total / 5}점입니다.')"
   ]
  },
  {
   "cell_type": "code",
   "execution_count": 2,
   "id": "e8c994b1",
   "metadata": {},
   "outputs": [],
   "source": [
    "#번외\n",
    "#리스트의 기초(뮤터블)\n",
    "list01 = [] #빈 리스트\n",
    "list02 = [1, 2, 3]\n",
    "list03 = ['A', 'B', 'C']\n",
    "list04 = list() #빈 리스트\n",
    "list05 = list('ABC') #문자열로부터 원소 생성\n",
    "list06 = list([1, 2, 3]) #리스트로부터 원소 생성\n",
    "list07 = list((1, 2, 3)) #튜플로부터 원소 생성\n",
    "list08 = list({1, 2, 3}) #집합으로부터 원소 생성\n",
    "list09 = list(range(7)) #특정 범위내의 정수로 구성된 리스트 : range()함수\n",
    "list10 = list(range(3, 8))\n",
    "list11 = list(range(3, 13, 2))\n",
    "list12 = [None] * 5 #원소값을 정하지 않는 리스트"
   ]
  },
  {
   "cell_type": "code",
   "execution_count": 3,
   "id": "19a83e83",
   "metadata": {},
   "outputs": [],
   "source": [
    "#번외\n",
    "#튜플의 기초(이뮤터블)\n",
    "tuple01 = () #빈 튜플\n",
    "tuple02 = 1, #원소가 1개인 경우 원소 뒤에 반드시 쉼표 입력\n",
    "tuple03 = (1,)\n",
    "tuple04 = 1, 2, 3\n",
    "tuple05 = 1, 2, 3,\n",
    "tuple06 = (1, 2, 3)\n",
    "tuple07 = (1, 2, 3, )\n",
    "tuple08 = 'A', 'B', 'C',\n",
    "tuple09 = tuple() #빈 튜플\n",
    "tuple10 = tuple('ABC') #문자열로부터 원소 생성\n",
    "tuple11 = tuple([1, 2, 3]) #리스트로부터 원소 생성\n",
    "tuple12 = tuple({1, 2, 3}) #집합으로부터 원소 생성\n",
    "tuple13 = tuple(range(7)) #특정 범위내의 정수로 구성된 튜플 : range()함수\n",
    "tuple14 = tuple(range(3, 8))\n",
    "tuple15 = tuple(range(3, 13, 2))"
   ]
  },
  {
   "cell_type": "code",
   "execution_count": 4,
   "id": "e6064178",
   "metadata": {},
   "outputs": [
    {
     "name": "stdout",
     "output_type": "stream",
     "text": [
      "1 2 3\n"
     ]
    }
   ],
   "source": [
    "#번외\n",
    "#리스트와 튜플 풀어내기(언팩)\n",
    "x = [1, 2, 3]\n",
    "a, b, c = x\n",
    "print(a, b, c)"
   ]
  },
  {
   "cell_type": "code",
   "execution_count": 5,
   "id": "4e2b5fc9",
   "metadata": {},
   "outputs": [
    {
     "name": "stdout",
     "output_type": "stream",
     "text": [
      "33\n",
      "55\n",
      "[11, 22, 33, 3.14, 55, 66, 77]\n"
     ]
    }
   ],
   "source": [
    "#번외\n",
    "#인덱스로 원소에 접근하기\n",
    "x = [11, 22, 33, 44, 55, 66, 77]\n",
    "print(x[2])\n",
    "print(x[-3])\n",
    "x[-4] = 3.14\n",
    "print(x)"
   ]
  },
  {
   "cell_type": "code",
   "execution_count": 6,
   "id": "c2be2cfc",
   "metadata": {},
   "outputs": [
    {
     "name": "stdout",
     "output_type": "stream",
     "text": [
      "[11, 22, 33, 44, 55, 66]\n",
      "[11, 22, 33, 44, 55, 66, 77]\n",
      "[11, 33, 55, 77]\n",
      "[44, 55]\n",
      "[]\n"
     ]
    }
   ],
   "source": [
    "#번외\n",
    "#슬라이스식으로 원소에 접근하기(인덱스와 달리 범위 벗어나는 값도 오류 안남)\n",
    "s = [11, 22, 33, 44, 55, 66, 77]\n",
    "print(s[0:6])\n",
    "print(s[0:7])\n",
    "print(s[0:7:2])\n",
    "print(s[-4:-2])\n",
    "print(s[3:1])"
   ]
  },
  {
   "cell_type": "code",
   "execution_count": 7,
   "id": "dba58aac",
   "metadata": {},
   "outputs": [
    {
     "name": "stdout",
     "output_type": "stream",
     "text": [
      "140707192973232\n",
      "2638474631536\n",
      "140707192973456\n",
      "140707192973488\n"
     ]
    }
   ],
   "source": [
    "#보충 2-1\n",
    "#뮤터블과 이뮤터블의 대입\n",
    "n = 5\n",
    "print(id(n))\n",
    "n = 'ABC'\n",
    "print(id(n)) #값을 변경하면 객체의 식별번호가 변경\n",
    "n = 12\n",
    "print(id(n))\n",
    "n += 1\n",
    "print(id(n))\n",
    "#이뮤터블 : 값을 변경할 수 없는 특성\n",
    "#뮤터블 : 값을 변경할 수 있는 특성"
   ]
  },
  {
   "cell_type": "code",
   "execution_count": 10,
   "id": "4b67550e",
   "metadata": {},
   "outputs": [
    {
     "ename": "IndentationError",
     "evalue": "expected an indented block (<ipython-input-10-235c05cf8c99>, line 7)",
     "output_type": "error",
     "traceback": [
      "\u001b[1;36m  File \u001b[1;32m\"<ipython-input-10-235c05cf8c99>\"\u001b[1;36m, line \u001b[1;32m7\u001b[0m\n\u001b[1;33m    else:\u001b[0m\n\u001b[1;37m    ^\u001b[0m\n\u001b[1;31mIndentationError\u001b[0m\u001b[1;31m:\u001b[0m expected an indented block\n"
     ]
    }
   ],
   "source": [
    "#보충 2-2\n",
    "#리스트와 튜플\n",
    "x = [15, 64, 7, 3.14, [32, 55], 'ABC']\n",
    "print(len(x)) #리스트나 튜플의 원소 수(배열의 길이) : len()함수\n",
    "if x:#빈 배열 판단 \n",
    "else:\n",
    "[1, 2, 3] == [1, 2, 3] #맨 앞 원소부터 차례로 비교\n",
    "[1, 2, 3] < [1, 2, 4]\n",
    "[1, 2, 3, 4] <= [1, 2, 3, 4]\n",
    "[1, 2, 3] < [1, 2, 3, 5]\n",
    "[1, 2, 3] < [1, 2, 3, 5] < [1, 2, 3, 5, 6] #and 결합\n",
    "#등가성 비교(==) : 좌변과 우변의 값이 같은지 비교\n",
    "#동일성 비교(is) : 값과 객체의 식별번호가 같은지 비교"
   ]
  },
  {
   "cell_type": "code",
   "execution_count": 9,
   "id": "03d34562",
   "metadata": {},
   "outputs": [
    {
     "name": "stdout",
     "output_type": "stream",
     "text": [
      "[2, 6, 10]\n"
     ]
    }
   ],
   "source": [
    "#번외\n",
    "#내포 표기 생성(리스트안에서 for문, if문을 사용해서 새로운 리스트 생성)\n",
    "numbers = [1, 2, 3, 4, 5]\n",
    "twise = [num * 2 for num in numbers if num % 2 == 1]\n",
    "print(twise)"
   ]
  },
  {
   "cell_type": "code",
   "execution_count": null,
   "id": "ed5c91c7",
   "metadata": {},
   "outputs": [],
   "source": []
  }
 ],
 "metadata": {
  "kernelspec": {
   "display_name": "Python 3",
   "language": "python",
   "name": "python3"
  },
  "language_info": {
   "codemirror_mode": {
    "name": "ipython",
    "version": 3
   },
   "file_extension": ".py",
   "mimetype": "text/x-python",
   "name": "python",
   "nbconvert_exporter": "python",
   "pygments_lexer": "ipython3",
   "version": "3.8.8"
  }
 },
 "nbformat": 4,
 "nbformat_minor": 5
}
