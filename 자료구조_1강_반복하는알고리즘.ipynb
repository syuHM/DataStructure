{
 "cells": [
  {
   "cell_type": "code",
   "execution_count": 1,
   "id": "dc8f41ae",
   "metadata": {},
   "outputs": [
    {
     "name": "stdout",
     "output_type": "stream",
     "text": [
      "1부터 n까지 정수의 합을 구합니다.\n",
      "n값을 입력하세요.: 5\n",
      "1부터 5까지 정수의 합은 15입니다.\n",
      "i값은 6입니다.\n"
     ]
    }
   ],
   "source": [
    "#실습 1-7\n",
    "#1부터 n까지 정수의 합을 구하는 프로그램 (while)\n",
    "print('1부터 n까지 정수의 합을 구합니다.')\n",
    "n = int(input('n값을 입력하세요.: '))\n",
    "\n",
    "sum = 0 #합을 저장\n",
    "i = 1 #반복을 제어, 카운터용 변수\n",
    "\n",
    "while i <= n: #판단 반복 구조\n",
    "    sum += i\n",
    "    i += 1\n",
    "    \n",
    "print(f'1부터 {n}까지 정수의 합은 {sum}입니다.')\n",
    "print(f'i값은 {i}입니다.')"
   ]
  },
  {
   "cell_type": "code",
   "execution_count": 2,
   "id": "43ca69f9",
   "metadata": {},
   "outputs": [
    {
     "name": "stdout",
     "output_type": "stream",
     "text": [
      "1부터 n까지 정수의 합을 구합니다.\n",
      "n의 값을 입력하세요.: 5\n",
      "1부터 5까지 정수의 합은 15입니다.\n"
     ]
    }
   ],
   "source": [
    "#실습 1-8\n",
    "#1부터 n까지 정수의 합을 구하는 프로그램 (for)\n",
    "print('1부터 n까지 정수의 합을 구합니다.')\n",
    "n = int(input('n의 값을 입력하세요.: '))\n",
    "\n",
    "sum = 0\n",
    "for i in range(1, n+1): #range() -> 이터러블 객체(반복할 수 있는 객체) 생성\n",
    "    sum += i #누적 대입문\n",
    "    \n",
    "print(f'1부터 {n}까지 정수의 합은 {sum}입니다.')"
   ]
  },
  {
   "cell_type": "code",
   "execution_count": 3,
   "id": "40571c39",
   "metadata": {},
   "outputs": [
    {
     "name": "stdout",
     "output_type": "stream",
     "text": [
      "1부터 n까지 정수의 합을 구합니다.\n",
      "n값을 입력하세요.: 5\n",
      "1부터 5까지 정수의 합은 15입니다.\n"
     ]
    }
   ],
   "source": [
    "#실습 1-8 조금만 더!\n",
    "#1부터 n까지 정수의 합을 구하는 프로그램 (가우스의 덧셈)\n",
    "print('1부터 n까지 정수의 합을 구합니다.')\n",
    "n = int(input('n값을 입력하세요.: '))\n",
    "\n",
    "sum = n * (n + 1) // 2\n",
    "\n",
    "print(f'1부터 {n}까지 정수의 합은 {sum}입니다.')"
   ]
  },
  {
   "cell_type": "code",
   "execution_count": 4,
   "id": "d7d0031e",
   "metadata": {},
   "outputs": [
    {
     "name": "stdout",
     "output_type": "stream",
     "text": [
      "a부터 b까지 정수의 합을 구합니다.\n",
      "정수 a를 입력하세요.: 3\n",
      "정수 b를 입력하세요.: 8\n",
      "3부터 8까지 정수의 합은 33입니다.\n"
     ]
    }
   ],
   "source": [
    "#실습 1-9\n",
    "#a부터 b까지 정수의 합 구하기(for)\n",
    "print('a부터 b까지 정수의 합을 구합니다.')\n",
    "a = int(input('정수 a를 입력하세요.: '))\n",
    "b = int(input('정수 b를 입력하세요.: '))\n",
    "\n",
    "if a > b:\n",
    "    a, b = b, a #a, b를 오름차순으로 정렬, 단일 대입문\n",
    "\n",
    "sum = 0 \n",
    "for i in range(a, b+1):\n",
    "    sum += i\n",
    "\n",
    "print(f'{a}부터 {b}까지 정수의 합은 {sum}입니다.')"
   ]
  },
  {
   "cell_type": "code",
   "execution_count": 6,
   "id": "1529f2e6",
   "metadata": {},
   "outputs": [
    {
     "name": "stdout",
     "output_type": "stream",
     "text": [
      "a부터 b까지 정수의 합을 구합니다.\n",
      "정수 a를 입력하세요.: 3\n",
      "정수 b를 입력하세요.: 7\n",
      "3 + 4 + 5 + 6 + 7 = 25\n"
     ]
    }
   ],
   "source": [
    "#실습 1-10\n",
    "#a부터 b까지 정수의 합을 구하는 과정과 최종값을 출력하는 프로그램1\n",
    "print('a부터 b까지 정수의 합을 구합니다.')\n",
    "a = int(input('정수 a를 입력하세요.: '))\n",
    "b = int(input('정수 b를 입력하세요.: '))\n",
    "\n",
    "if a > b:\n",
    "    a, b = b, a\n",
    "    \n",
    "sum = 0\n",
    "for i in range(a, b+1):\n",
    "    if i < b: #i가 b보다 작으면 합을 구하는 과정 출력\n",
    "        print(f'{i} + ', end = '')\n",
    "    else: #i가 b보다 크거나 같으면 최종값 출력을 위해 i = 출력\n",
    "        print(f'{i} = ', end = '')\n",
    "    sum += i\n",
    "    \n",
    "print(sum)"
   ]
  },
  {
   "cell_type": "code",
   "execution_count": 7,
   "id": "a8459ece",
   "metadata": {},
   "outputs": [
    {
     "name": "stdout",
     "output_type": "stream",
     "text": [
      "a부터 b까지 정수의 합을 구합니다.\n",
      "정수 a를 입력하세요.: 3\n",
      "정수 b를 입력하세요.: 7\n",
      "3 + 4 + 5 + 6 + 7 = 25\n"
     ]
    }
   ],
   "source": [
    "#실습 1-11\n",
    "#a부터 b까지 정수의 합을 구하는 과정과 최종값을 출력하는 프로그램2\n",
    "print('a부터 b까지 정수의 합을 구합니다.')\n",
    "a = int(input('정수 a를 입력하세요.: '))\n",
    "b = int(input('정수 b를 입력하세요.: '))\n",
    "\n",
    "if a > b:\n",
    "    a, b = b, a\n",
    "    \n",
    "sum = 0\n",
    "for i in range(a, b):\n",
    "    print(f'{i} + ', end = '')\n",
    "    sum += i\n",
    "    \n",
    "print(f'{b} = ', end = '')\n",
    "sum += b\n",
    "\n",
    "print(sum)\n",
    "#판단횟수 n번 -> 0번, 반복 횟수 1번 감소"
   ]
  },
  {
   "cell_type": "code",
   "execution_count": 8,
   "id": "1f60f780",
   "metadata": {},
   "outputs": [
    {
     "name": "stdout",
     "output_type": "stream",
     "text": [
      "+와 -를 번갈아 출력합니다.\n",
      "몇 개를 출력할까요?: 12\n",
      "+-+-+-+-+-+-\n"
     ]
    }
   ],
   "source": [
    "#실습 1-12\n",
    "#줄바꿈없이 +, -를 연속해서 출력하는 프로그램\n",
    "print('+와 -를 번갈아 출력합니다.')\n",
    "n = int(input('몇 개를 출력할까요?: '))\n",
    "\n",
    "for i in range(n): \n",
    "    if i % 2:\n",
    "        print('-', end = '') #홀수인 경우 - 출력\n",
    "    else:\n",
    "        print('+', end = '') #짝수인 경우 + 출력\n",
    "        \n",
    "print()"
   ]
  },
  {
   "cell_type": "code",
   "execution_count": 9,
   "id": "4e9e7839",
   "metadata": {},
   "outputs": [
    {
     "name": "stdout",
     "output_type": "stream",
     "text": [
      "+와 -를 번갈아 출력합니다.\n",
      "몇 개를 출력할까요?: 12\n",
      "+-+-+-+-+-+-\n"
     ]
    }
   ],
   "source": [
    "#실습 1-13\n",
    "#줄바꿈없이 +, -를 연속해서 출력하는 프로그램2\n",
    "print('+와 -를 번갈아 출력합니다.')\n",
    "n = int(input('몇 개를 출력할까요?: '))\n",
    "\n",
    "for _ in range(n // 2): #_ -> 무시하고 싶은 값, 인덱스를 사용할 필요가 없어서 _ 사용\n",
    "    print('+-', end = '') #+-를 n // 2개 출력\n",
    "\n",
    "if n % 2:\n",
    "    print('+', end = '') #n이 홀수인 경우 + 출력\n",
    "        \n",
    "print()"
   ]
  },
  {
   "cell_type": "code",
   "execution_count": 10,
   "id": "631cbe3e",
   "metadata": {},
   "outputs": [
    {
     "name": "stdout",
     "output_type": "stream",
     "text": [
      "*를 출력합니다.\n",
      "몇 개를 출력할까요?: 14\n",
      "몇 개마다 줄바꿈할까요?: 5\n",
      "*****\n",
      "*****\n",
      "****\n"
     ]
    }
   ],
   "source": [
    "#실습 1-14\n",
    "#*를 n개 출력하되 w개마다 줄바꿈을 하는 프로그램\n",
    "print('*를 출력합니다.')\n",
    "n = int(input('몇 개를 출력할까요?: '))\n",
    "w = int(input('몇 개마다 줄바꿈할까요?: '))\n",
    "\n",
    "for i in range(n):\n",
    "    print('*', end = '')\n",
    "    if i % w == w - 1:\n",
    "        print() #줄바꿈\n",
    "\n",
    "if n % w:\n",
    "    print() #줄바꿈"
   ]
  },
  {
   "cell_type": "code",
   "execution_count": 12,
   "id": "bb37bfb6",
   "metadata": {},
   "outputs": [
    {
     "name": "stdout",
     "output_type": "stream",
     "text": [
      "*를 출력합니다.\n",
      "몇 개를 출력할까요?: 14\n",
      "몇 개마다 줄바꿈할까요?: 5\n",
      "*****\n",
      "*****\n",
      "****\n"
     ]
    }
   ],
   "source": [
    "#실습 1-15\n",
    "#*를 n개 출력하되 w개마다 줄바꿈을 하는 프로그램2\n",
    "print('*를 출력합니다.')\n",
    "n = int(input('몇 개를 출력할까요?: '))\n",
    "w = int(input('몇 개마다 줄바꿈할까요?: '))\n",
    "\n",
    "for _ in range(n // w):\n",
    "    print('*' * w)\n",
    "\n",
    "rest = n % w\n",
    "if rest: #n이 w의 배수가 아닌 경우\n",
    "    print('*' * rest)"
   ]
  },
  {
   "cell_type": "code",
   "execution_count": 13,
   "id": "838d53a7",
   "metadata": {},
   "outputs": [
    {
     "name": "stdout",
     "output_type": "stream",
     "text": [
      "1부터 n까지 정수의 합을 구합니다.\n",
      "n값을 입력하세요.: -5\n",
      "n값을 입력하세요.: 0\n",
      "n값을 입력하세요.: 10\n",
      "1부터 10까지 정수의 합은 55입니다.\n"
     ]
    }
   ],
   "source": [
    "#실습 1-16\n",
    "#1부터 n(n값은 양수만 입력받음)까지 정수의 합 구하는 프로그램\n",
    "print('1부터 n까지 정수의 합을 구합니다.')\n",
    "\n",
    "while True: #무한 루프\n",
    "    n = int(input('n값을 입력하세요.: '))\n",
    "    if n > 0:\n",
    "        break #무한 루프 탈출\n",
    "\n",
    "sum = 0\n",
    "i = 1\n",
    "\n",
    "for i in range(1, n+1):\n",
    "    sum += i\n",
    "    i += 1\n",
    "    \n",
    "print(f'1부터 {n}까지 정수의 합은 {sum}입니다.')"
   ]
  },
  {
   "cell_type": "code",
   "execution_count": 14,
   "id": "3ff20567",
   "metadata": {},
   "outputs": [
    {
     "name": "stdout",
     "output_type": "stream",
     "text": [
      "직사각형의 넓이를 입력하세요.: 32\n",
      "1 x 32\n",
      "2 x 16\n",
      "4 x 8\n"
     ]
    }
   ],
   "source": [
    "#실습 1-17\n",
    "#변의 길이와 넓이가 모두 정수인 직사각형에서 변의 길이를 구하는 프로그램(약수 나열)\n",
    "area = int(input('직사각형의 넓이를 입력하세요.: '))\n",
    "\n",
    "for i in range(1, area+1):\n",
    "    if i * i > area: #i가 가장 긴 변의 길이이며 사각형의 최대 넓이보다 커지므로 break\n",
    "        break\n",
    "    if area % i: #area가 i로 나누어 떨어지지 않으면 변의 길이(약수)가 될 수 없음.\n",
    "        continue\n",
    "    print(f'{i} x {area // i}')"
   ]
  },
  {
   "cell_type": "code",
   "execution_count": 15,
   "id": "52143ba2",
   "metadata": {},
   "outputs": [
    {
     "name": "stdout",
     "output_type": "stream",
     "text": [
      "난수의 개수를 입력하세요.: 5\n",
      "21\n",
      "난수 생성을 종료합니다.\n",
      "90\n",
      "난수 생성을 종료합니다.\n",
      "28\n",
      "난수 생성을 종료합니다.\n",
      "50\n",
      "난수 생성을 종료합니다.\n",
      "72\n",
      "난수 생성을 종료합니다.\n"
     ]
    }
   ],
   "source": [
    "#실습 1-18\n",
    "#else문이 뒤따르는 for문을 구현한 프로그램(10~99 난수 생성, 13이 나오면 중단)\n",
    "import random\n",
    "\n",
    "n = int(input('난수의 개수를 입력하세요.: '))\n",
    "\n",
    "for _ in range(n): #10~99 난수 n개 생성\n",
    "    r = random.randint(10, 99) #난수 생성 후 반환하는 함수\n",
    "    print(r, end = '')\n",
    "    if r == 13:\n",
    "        print('\\n프로그램을 중단합니다.')\n",
    "        break\n",
    "    else:\n",
    "        print('\\n난수 생성을 종료합니다.')"
   ]
  },
  {
   "cell_type": "code",
   "execution_count": 16,
   "id": "0760f242",
   "metadata": {},
   "outputs": [
    {
     "name": "stdout",
     "output_type": "stream",
     "text": [
      "12345679101112\n"
     ]
    }
   ],
   "source": [
    "#실습 1-19\n",
    "#1~12까지 i가 8이 되었을 때 continue문을 실행하는 프로그램\n",
    "for i in range(1, 13):\n",
    "    if i == 8:\n",
    "        continue\n",
    "    print(i, end = '')\n",
    "    \n",
    "print()"
   ]
  },
  {
   "cell_type": "code",
   "execution_count": 18,
   "id": "75c14764",
   "metadata": {},
   "outputs": [
    {
     "name": "stdout",
     "output_type": "stream",
     "text": [
      "12345679101112\n"
     ]
    }
   ],
   "source": [
    "#실습 1-20\n",
    "#1~12까지 i가 8이 되었을 때 continue문을 실행하는 프로그램2\n",
    "for i in list(range(1, 8)) + list(range(9, 13)):\n",
    "    print(i, end = '')\n",
    "    \n",
    "print()"
   ]
  },
  {
   "cell_type": "code",
   "execution_count": 19,
   "id": "d4aa82c6",
   "metadata": {},
   "outputs": [
    {
     "name": "stdout",
     "output_type": "stream",
     "text": [
      "2자리 양수를 입력하세요.\n",
      "값을 입력하세요.: 9\n",
      "값을 입력하세요.: 146\n",
      "값을 입력하세요.: 57\n",
      "입력받은 양수는 57입니다.\n"
     ]
    }
   ],
   "source": [
    "#실습 1c-3\n",
    "#2자리 양수를 입력받는 프로그램\n",
    "print('2자리 양수를 입력하세요.')\n",
    "\n",
    "while True:\n",
    "    no = int(input('값을 입력하세요.: '))\n",
    "    if no >= 10 and no <= 99:\n",
    "        break\n",
    "\n",
    "print(f'입력받은 양수는 {no}입니다.')"
   ]
  },
  {
   "cell_type": "code",
   "execution_count": 21,
   "id": "ef0ef5de",
   "metadata": {},
   "outputs": [
    {
     "name": "stdout",
     "output_type": "stream",
     "text": [
      "2자리 양수를 입력하세요.\n",
      "값을 입력하세요.: 5\n",
      "값을 입력하세요.: 147\n",
      "값을 입력하세요.: 57\n",
      "입력받은 양수는 57입니다.\n"
     ]
    }
   ],
   "source": [
    "#실습 1c-3 드모르간 법칙(각 조건을 부정하고 논리곱->논리합,논리합->논리곱 바꾸고 전체 부정 = 원래 조건)\n",
    "#2자리 양수를 입력받는 프로그램\n",
    "print('2자리 양수를 입력하세요.')\n",
    "\n",
    "while True:\n",
    "    no = int(input('값을 입력하세요.: '))\n",
    "    if not (no < 10 or no > 99):\n",
    "        break\n",
    "\n",
    "print(f'입력받은 양수는 {no}입니다.')"
   ]
  },
  {
   "cell_type": "code",
   "execution_count": 22,
   "id": "b4c3e131",
   "metadata": {},
   "outputs": [
    {
     "name": "stdout",
     "output_type": "stream",
     "text": [
      "---------------------------\n",
      "  1  2  3  4  5  6  7  8  9\n",
      "  2  4  6  8 10 12 14 16 18\n",
      "  3  6  9 12 15 18 21 24 27\n",
      "  4  8 12 16 20 24 28 32 36\n",
      "  5 10 15 20 25 30 35 40 45\n",
      "  6 12 18 24 30 36 42 48 54\n",
      "  7 14 21 28 35 42 49 56 63\n",
      "  8 16 24 32 40 48 56 64 72\n",
      "  9 18 27 36 45 54 63 72 81\n",
      "---------------------------\n"
     ]
    }
   ],
   "source": [
    "#실습 1-21\n",
    "#이중 루프로 구구단 곱셈표를 출력하는 프로그램\n",
    "print('-'*27)\n",
    "for i in range(1, 10): #세로방향 반복문\n",
    "    for j in range(1, 10): #가로방향 반복문\n",
    "        print(f'{i * j:3}', end = '')\n",
    "    print()\n",
    "print('-'*27)"
   ]
  },
  {
   "cell_type": "code",
   "execution_count": 23,
   "id": "2cdc6837",
   "metadata": {},
   "outputs": [
    {
     "name": "stdout",
     "output_type": "stream",
     "text": [
      "왼쪽 아래가 직각인 이등변 삼각형을 출력합니다.\n",
      "짧은 변의 길이를 입력하세요.: 5\n",
      "*\n",
      "**\n",
      "***\n",
      "****\n",
      "*****\n"
     ]
    }
   ],
   "source": [
    "#실습 1-22\n",
    "#왼쪽 아래가 직각인 이등변 삼각형으로 *을 출력하는 프로그램\n",
    "print('왼쪽 아래가 직각인 이등변 삼각형을 출력합니다.')\n",
    "n = int(input('짧은 변의 길이를 입력하세요.: '))\n",
    "\n",
    "for i in range(n):\n",
    "    for j in range(i+1):\n",
    "        print('*', end = '')\n",
    "    print()"
   ]
  },
  {
   "cell_type": "code",
   "execution_count": 24,
   "id": "b6d8103f",
   "metadata": {},
   "outputs": [
    {
     "name": "stdout",
     "output_type": "stream",
     "text": [
      "왼쪽 아래가 직각인 이등변 삼각형을 출력합니다.\n",
      "짧은 변의 길이를 입력하세요.: 5\n",
      "    *\n",
      "   **\n",
      "  ***\n",
      " ****\n",
      "*****\n"
     ]
    }
   ],
   "source": [
    "#실습 1-23\n",
    "#왼쪽 아래가 직각인 이등변 삼각형으로 *을 출력하는 프로그램2\n",
    "print('왼쪽 아래가 직각인 이등변 삼각형을 출력합니다.')\n",
    "n = int(input('짧은 변의 길이를 입력하세요.: '))\n",
    "\n",
    "for i in range(n):\n",
    "    for _ in range(n-i-1):\n",
    "        print(' ', end = '') #공백 출력\n",
    "    for _ in range(i+1):\n",
    "        print('*', end = '') #* 출력\n",
    "    print()"
   ]
  },
  {
   "cell_type": "code",
   "execution_count": 25,
   "id": "29e24661",
   "metadata": {},
   "outputs": [
    {
     "name": "stdout",
     "output_type": "stream",
     "text": [
      "140720428951856\n",
      "140720428951856\n"
     ]
    }
   ],
   "source": [
    "#보충 수업 1-13\n",
    "n = 17\n",
    "print(id(17)) #id함수 -> 객체의 식별 번호 반환\n",
    "print(id(n))"
   ]
  },
  {
   "cell_type": "code",
   "execution_count": 26,
   "id": "b688f716",
   "metadata": {},
   "outputs": [
    {
     "name": "stdout",
     "output_type": "stream",
     "text": [
      "id(1) = 140720428951344\n",
      "id(n) = 140720428951344\n",
      "id(x) = 140720428951344\n"
     ]
    }
   ],
   "source": [
    "#실습 1c-4\n",
    "#함수 내부 외부에서 정의한 변수와 객체의 식별 번호를 출력하는 프로그램\n",
    "n = 1 #전역 변수(함수 내부 외부에서 사용)\n",
    "def put_id():\n",
    "    x = 1 #지역 변수(함수 내부에서만 사용)\n",
    "    print(f'id(x) = {id(x)}')\n",
    "    \n",
    "print(f'id(1) = {id(1)}')\n",
    "print(f'id(n) = {id(n)}')\n",
    "put_id()"
   ]
  },
  {
   "cell_type": "code",
   "execution_count": 27,
   "id": "2ef15483",
   "metadata": {},
   "outputs": [
    {
     "name": "stdout",
     "output_type": "stream",
     "text": [
      "i =   1  id(i) = 140720428951344\n",
      "i =   2  id(i) = 140720428951376\n",
      "i =   3  id(i) = 140720428951408\n",
      "i =   4  id(i) = 140720428951440\n",
      "i =   5  id(i) = 140720428951472\n",
      "i =   6  id(i) = 140720428951504\n",
      "i =   7  id(i) = 140720428951536\n",
      "i =   8  id(i) = 140720428951568\n",
      "i =   9  id(i) = 140720428951600\n",
      "i =  10  id(i) = 140720428951632\n",
      "i =  11  id(i) = 140720428951664\n",
      "i =  12  id(i) = 140720428951696\n",
      "i =  13  id(i) = 140720428951728\n",
      "i =  14  id(i) = 140720428951760\n",
      "i =  15  id(i) = 140720428951792\n",
      "i =  16  id(i) = 140720428951824\n",
      "i =  17  id(i) = 140720428951856\n",
      "i =  18  id(i) = 140720428951888\n",
      "i =  19  id(i) = 140720428951920\n",
      "i =  20  id(i) = 140720428951952\n",
      "i =  21  id(i) = 140720428951984\n",
      "i =  22  id(i) = 140720428952016\n",
      "i =  23  id(i) = 140720428952048\n",
      "i =  24  id(i) = 140720428952080\n",
      "i =  25  id(i) = 140720428952112\n",
      "i =  26  id(i) = 140720428952144\n",
      "i =  27  id(i) = 140720428952176\n",
      "i =  28  id(i) = 140720428952208\n",
      "i =  29  id(i) = 140720428952240\n",
      "i =  30  id(i) = 140720428952272\n",
      "i =  31  id(i) = 140720428952304\n",
      "i =  32  id(i) = 140720428952336\n",
      "i =  33  id(i) = 140720428952368\n",
      "i =  34  id(i) = 140720428952400\n",
      "i =  35  id(i) = 140720428952432\n",
      "i =  36  id(i) = 140720428952464\n",
      "i =  37  id(i) = 140720428952496\n",
      "i =  38  id(i) = 140720428952528\n",
      "i =  39  id(i) = 140720428952560\n",
      "i =  40  id(i) = 140720428952592\n",
      "i =  41  id(i) = 140720428952624\n",
      "i =  42  id(i) = 140720428952656\n",
      "i =  43  id(i) = 140720428952688\n",
      "i =  44  id(i) = 140720428952720\n",
      "i =  45  id(i) = 140720428952752\n",
      "i =  46  id(i) = 140720428952784\n",
      "i =  47  id(i) = 140720428952816\n",
      "i =  48  id(i) = 140720428952848\n",
      "i =  49  id(i) = 140720428952880\n",
      "i =  50  id(i) = 140720428952912\n",
      "i =  51  id(i) = 140720428952944\n",
      "i =  52  id(i) = 140720428952976\n",
      "i =  53  id(i) = 140720428953008\n",
      "i =  54  id(i) = 140720428953040\n",
      "i =  55  id(i) = 140720428953072\n",
      "i =  56  id(i) = 140720428953104\n",
      "i =  57  id(i) = 140720428953136\n",
      "i =  58  id(i) = 140720428953168\n",
      "i =  59  id(i) = 140720428953200\n",
      "i =  60  id(i) = 140720428953232\n",
      "i =  61  id(i) = 140720428953264\n",
      "i =  62  id(i) = 140720428953296\n",
      "i =  63  id(i) = 140720428953328\n",
      "i =  64  id(i) = 140720428953360\n",
      "i =  65  id(i) = 140720428953392\n",
      "i =  66  id(i) = 140720428953424\n",
      "i =  67  id(i) = 140720428953456\n",
      "i =  68  id(i) = 140720428953488\n",
      "i =  69  id(i) = 140720428953520\n",
      "i =  70  id(i) = 140720428953552\n",
      "i =  71  id(i) = 140720428953584\n",
      "i =  72  id(i) = 140720428953616\n",
      "i =  73  id(i) = 140720428953648\n",
      "i =  74  id(i) = 140720428953680\n",
      "i =  75  id(i) = 140720428953712\n",
      "i =  76  id(i) = 140720428953744\n",
      "i =  77  id(i) = 140720428953776\n",
      "i =  78  id(i) = 140720428953808\n",
      "i =  79  id(i) = 140720428953840\n",
      "i =  80  id(i) = 140720428953872\n",
      "i =  81  id(i) = 140720428953904\n",
      "i =  82  id(i) = 140720428953936\n",
      "i =  83  id(i) = 140720428953968\n",
      "i =  84  id(i) = 140720428954000\n",
      "i =  85  id(i) = 140720428954032\n",
      "i =  86  id(i) = 140720428954064\n",
      "i =  87  id(i) = 140720428954096\n",
      "i =  88  id(i) = 140720428954128\n",
      "i =  89  id(i) = 140720428954160\n",
      "i =  90  id(i) = 140720428954192\n",
      "i =  91  id(i) = 140720428954224\n",
      "i =  92  id(i) = 140720428954256\n",
      "i =  93  id(i) = 140720428954288\n",
      "i =  94  id(i) = 140720428954320\n",
      "i =  95  id(i) = 140720428954352\n",
      "i =  96  id(i) = 140720428954384\n",
      "i =  97  id(i) = 140720428954416\n",
      "i =  98  id(i) = 140720428954448\n",
      "i =  99  id(i) = 140720428954480\n",
      "i = 100  id(i) = 140720428954512\n"
     ]
    }
   ],
   "source": [
    "#실습 1c-5\n",
    "#1부터 100까지 반복하여 출력하는 프로그램\n",
    "for i in range(1, 101):\n",
    "    print(f'i = {i:3}  id(i) = {id(i)}')"
   ]
  },
  {
   "cell_type": "code",
   "execution_count": null,
   "id": "34619806",
   "metadata": {},
   "outputs": [],
   "source": []
  },
  {
   "cell_type": "code",
   "execution_count": null,
   "id": "9e534109",
   "metadata": {},
   "outputs": [],
   "source": []
  },
  {
   "cell_type": "code",
   "execution_count": null,
   "id": "bb76394c",
   "metadata": {},
   "outputs": [],
   "source": []
  },
  {
   "cell_type": "code",
   "execution_count": null,
   "id": "c701a8ff",
   "metadata": {},
   "outputs": [],
   "source": []
  },
  {
   "cell_type": "code",
   "execution_count": null,
   "id": "3141fa1c",
   "metadata": {},
   "outputs": [],
   "source": []
  },
  {
   "cell_type": "code",
   "execution_count": null,
   "id": "89dcd60a",
   "metadata": {},
   "outputs": [],
   "source": []
  },
  {
   "cell_type": "code",
   "execution_count": null,
   "id": "4f2bf557",
   "metadata": {},
   "outputs": [],
   "source": []
  }
 ],
 "metadata": {
  "kernelspec": {
   "display_name": "Python 3",
   "language": "python",
   "name": "python3"
  },
  "language_info": {
   "codemirror_mode": {
    "name": "ipython",
    "version": 3
   },
   "file_extension": ".py",
   "mimetype": "text/x-python",
   "name": "python",
   "nbconvert_exporter": "python",
   "pygments_lexer": "ipython3",
   "version": "3.8.8"
  }
 },
 "nbformat": 4,
 "nbformat_minor": 5
}
