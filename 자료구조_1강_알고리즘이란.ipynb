{
 "cells": [
  {
   "cell_type": "code",
   "execution_count": 2,
   "id": "e7c0f35f",
   "metadata": {},
   "outputs": [
    {
     "name": "stdout",
     "output_type": "stream",
     "text": [
      "세 정수의 최댓값을 구합니다.\n",
      "정수 a의 값을 입력하세요.: 58\n",
      "정수 b의 값을 입력하세요.: 65\n",
      "정수 c의 값을 입력하세요.: 74\n",
      "최댓값은 74입니다.\n"
     ]
    }
   ],
   "source": [
    "#실습 1-1\n",
    "#3개의 정수값을 비교하여 최댓값을 구하는 프로그램\n",
    "print('세 정수의 최댓값을 구합니다.')\n",
    "a = int(input('정수 a의 값을 입력하세요.: '))\n",
    "b = int(input('정수 b의 값을 입력하세요.: '))\n",
    "c = int(input('정수 c의 값을 입력하세요.: '))\n",
    "\n",
    "maximum = a #maximum에 a의 값을 대입, 한 문장씩 순서대로 처리 -> 순차 구조\n",
    "if b > maximum: #if와 : 사이(헤더)의 식을 조건식, 조건식 결과에 따라 실행 흐름 변경(양 갈래 선택) -> 선택 구조\n",
    "    maximum = b #b의 값이 maximum보다 크면, maximum에 b의 값 대입\n",
    "if c > maximum: # : = 바로 뒤에 스위트(실행문)가 이어진다.\n",
    "    maximum = c #c의 값이 maximum보다 크면, maximum에 c의 값 대입\n",
    "\n",
    "print(f'최댓값은 {maximum}입니다.')"
   ]
  },
  {
   "cell_type": "code",
   "execution_count": 5,
   "id": "aff41713",
   "metadata": {},
   "outputs": [
    {
     "name": "stdout",
     "output_type": "stream",
     "text": [
      "이름을 입력하세요.: 홍길동\n",
      "안녕하세요? 홍길동님.\n"
     ]
    }
   ],
   "source": [
    "#실습 1c-1\n",
    "#input1\n",
    "#이름을 문자열로 입력받아 화면에 출력하는 프로그램\n",
    "print('이름을 입력하세요.: ',end = '') #end를 사용하여 출력의 끝부분을 변경, ''는 줄바꿈 안함.\n",
    "name = input()\n",
    "print(f'안녕하세요? {name}님.')"
   ]
  },
  {
   "cell_type": "code",
   "execution_count": 6,
   "id": "c524cce9",
   "metadata": {},
   "outputs": [
    {
     "name": "stdout",
     "output_type": "stream",
     "text": [
      "이름을 입력하세요.: 홍길동\n",
      "안녕하세요? 홍길동님.\n"
     ]
    }
   ],
   "source": [
    "#실습 1c-1\n",
    "#input2\n",
    "#이름을 문자열로 입력받아 화면에 출력하는 프로그램\n",
    "name = input('이름을 입력하세요.: ')\n",
    "print(f'안녕하세요? {name}님.')"
   ]
  },
  {
   "cell_type": "code",
   "execution_count": 9,
   "id": "2f1f932c",
   "metadata": {},
   "outputs": [
    {
     "name": "stdout",
     "output_type": "stream",
     "text": [
      "17\n",
      "6\n",
      "61\n",
      "13\n",
      "63\n",
      "3.14\n"
     ]
    }
   ],
   "source": [
    "#실습 1-1 번외\n",
    "#문자열을 정수로 형 변환\n",
    "print(int('17')) #10진수 문자열을 10진수 정수형으로 변환 (기본)\n",
    "print(int('0b110', 2)) #2진수 문자열을 10진수 정수형으로 변환\n",
    "print(int('0o75', 8)) #8진수 문자열을 10진수 정수형으로 변환\n",
    "print(int('13', 10)) #10진수 문자열을 10진수 정수형으로 변환\n",
    "print(int('0x3F', 16)) #16진수 문자열을 10진수 정수형으로 변환\n",
    "print(float('3.14')) #문자열을 실수형으로 변환, float => 부동 소수점 방식"
   ]
  },
  {
   "cell_type": "code",
   "execution_count": 11,
   "id": "3ba370a5",
   "metadata": {},
   "outputs": [
    {
     "name": "stdout",
     "output_type": "stream",
     "text": [
      "max3(3, 2, 1) = 3\n",
      "max3(3, 2, 2) = 3\n",
      "max3(3, 1, 2) = 3\n",
      "max3(3, 2, 3) = 3\n",
      "max3(2, 1, 3) = 3\n",
      "max3(3, 3, 2) = 3\n",
      "max3(3, 3, 3) = 3\n",
      "max3(2, 2, 3) = 3\n",
      "max3(2, 3, 1) = 3\n",
      "max3(2, 3, 2) = 3\n",
      "max3(1, 3, 2) = 3\n",
      "max3(2, 3, 3) = 3\n",
      "max3(1, 2, 3) = 3\n"
     ]
    }
   ],
   "source": [
    "#실습 1-2\n",
    "#실습 1-1 프로그램에서 최댓값을 잘 구할 수 있는지 확인하는 프로그램\n",
    "def max3(a, b, c):\n",
    "    maximum = a\n",
    "    if b > maximum:\n",
    "        maximum = b\n",
    "    if c > maximum: \n",
    "        maximum = c\n",
    "    return maximum\n",
    "#모든 함수 호출에서 최댓값이 3이 되도록 출력\n",
    "print(f'max3(3, 2, 1) = {max3(3, 2, 1)}') #a>b>c\n",
    "print(f'max3(3, 2, 2) = {max3(3, 2, 2)}') #a>b=c\n",
    "print(f'max3(3, 1, 2) = {max3(3, 1, 2)}') #a>c>b\n",
    "print(f'max3(3, 2, 3) = {max3(3, 2, 3)}') #a=c>b\n",
    "print(f'max3(2, 1, 3) = {max3(2, 1, 3)}') #c>a>b\n",
    "print(f'max3(3, 3, 2) = {max3(3, 3, 2)}') #a=b>c\n",
    "print(f'max3(3, 3, 3) = {max3(3, 3, 3)}') #a=b=c\n",
    "print(f'max3(2, 2, 3) = {max3(2, 2, 3)}') #c>a=b\n",
    "print(f'max3(2, 3, 1) = {max3(2, 3, 1)}') #b>a>c\n",
    "print(f'max3(2, 3, 2) = {max3(2, 3, 2)}') #b>a=c\n",
    "print(f'max3(1, 3, 2) = {max3(1, 3, 2)}') #b>c>a\n",
    "print(f'max3(2, 3, 3) = {max3(2, 3, 3)}') #b=c>a\n",
    "print(f'max3(1, 2, 3) = {max3(1, 2, 3)}') #c>b>a"
   ]
  },
  {
   "cell_type": "code",
   "execution_count": null,
   "id": "eeb87322",
   "metadata": {},
   "outputs": [],
   "source": [
    "#보충 수업 1-4\n",
    "#복합문의 스위트\n",
    "if a < b:\n",
    "    min2 = a\n",
    "    min2 = b #공백 4개로 들여쓰는 것을 권장\n",
    "    \n",
    "if a < b: min2 = a\n",
    "if a < b: min2 = a; max2 = b\n",
    "if a < b: min2 = a; max2 = b; #단순문이 2개 이상이면 ;으로 구분, 헤더와 같은 행에 둘 수 있음.\n",
    "\n",
    "if a < b: if c < d: x = u #헤더와 같은 행에 복합문을 둘 수 없음."
   ]
  },
  {
   "cell_type": "code",
   "execution_count": 13,
   "id": "8d76ce7c",
   "metadata": {},
   "outputs": [
    {
     "name": "stdout",
     "output_type": "stream",
     "text": [
      "세 정수의 중앙값을 구합니다.\n",
      "정수 a의 값을 입력하세요.: 1\n",
      "정수 b의 값을 입력하세요.: 2\n",
      "정수 c의 값을 입력하세요.: 3\n",
      "중앙값은 2입니다.\n"
     ]
    }
   ],
   "source": [
    "#실습 1c-2\n",
    "#세 정수 a,b,c의 중앙값을 구하는 프로그램\n",
    "def med3(a, b, c):\n",
    "    if a >= b:\n",
    "        if b >= c:\n",
    "            return b\n",
    "        elif a <= c:\n",
    "            return a\n",
    "        else:\n",
    "            return c\n",
    "    elif a > c:\n",
    "        return a\n",
    "    elif b > c:\n",
    "        return c\n",
    "    else:\n",
    "        return b\n",
    "    \n",
    "print('세 정수의 중앙값을 구합니다.')\n",
    "a = int(input('정수 a의 값을 입력하세요.: '))\n",
    "b = int(input('정수 b의 값을 입력하세요.: '))\n",
    "c = int(input('정수 c의 값을 입력하세요.: '))\n",
    "\n",
    "print(f'중앙값은 {med3(a, b, c)}입니다.')"
   ]
  },
  {
   "cell_type": "code",
   "execution_count": 15,
   "id": "6ee49791",
   "metadata": {},
   "outputs": [
    {
     "name": "stdout",
     "output_type": "stream",
     "text": [
      "세 정수의 중앙값을 구합니다.\n",
      "정수 a의 값을 입력하세요.: 1\n",
      "정수 b의 값을 입력하세요.: 2\n",
      "정수 c의 값을 입력하세요.: 3\n",
      "중앙값은 2입니다.\n"
     ]
    }
   ],
   "source": [
    "#실습 1c-2 비교\n",
    "#세 정수 a,b,c의 중앙값을 구하는 프로그램\n",
    "def med3(a, b, c):\n",
    "    if (b >= a and c <= a) or (b <= a and c >= a):\n",
    "        return a\n",
    "    elif (a > b and c < b) or (a < b and c > b): #위에 if문 조건을 뒤집은 판단을 elif에서 수행 -> 비효율적\n",
    "        return b\n",
    "    return c\n",
    "\n",
    "print('세 정수의 중앙값을 구합니다.')\n",
    "a = int(input('정수 a의 값을 입력하세요.: '))\n",
    "b = int(input('정수 b의 값을 입력하세요.: '))\n",
    "c = int(input('정수 c의 값을 입력하세요.: '))\n",
    "\n",
    "print(f'중앙값은 {med3(a, b, c)}입니다.')"
   ]
  },
  {
   "cell_type": "code",
   "execution_count": 16,
   "id": "1a1c491e",
   "metadata": {},
   "outputs": [
    {
     "name": "stdout",
     "output_type": "stream",
     "text": [
      "정수를 입력하세요.: 2\n",
      "이 수는 양수입니다.\n"
     ]
    }
   ],
   "source": [
    "#실습 1-3\n",
    "#입력받은 정숫값의 부호를 판단하여 출력하는 프로그램\n",
    "n = int(input('정수를 입력하세요.: '))\n",
    "\n",
    "if n > 0:\n",
    "    print('이 수는 양수입니다.')\n",
    "elif n < 0:\n",
    "    print('이 수는 음수입니다.')\n",
    "else:\n",
    "    print('이 수는 0입니다.')"
   ]
  },
  {
   "cell_type": "code",
   "execution_count": 17,
   "id": "54c61745",
   "metadata": {},
   "outputs": [
    {
     "name": "stdout",
     "output_type": "stream",
     "text": [
      "정수를 입력하세요.: 5\n",
      "C\n"
     ]
    }
   ],
   "source": [
    "#실습 1-4\n",
    "#3개로 분기하는 조건문\n",
    "n = int(input('정수를 입력하세요.: '))\n",
    "\n",
    "if n == 1:\n",
    "    print('A')\n",
    "elif n == 2:\n",
    "    print('B')\n",
    "else:\n",
    "    print('C')"
   ]
  },
  {
   "cell_type": "code",
   "execution_count": 19,
   "id": "d3b9bdb8",
   "metadata": {},
   "outputs": [
    {
     "name": "stdout",
     "output_type": "stream",
     "text": [
      "정수를 입력하세요.: 4\n"
     ]
    }
   ],
   "source": [
    "#실습 1-5\n",
    "#4개로 분기하는 조건문\n",
    "n = int(input('정수를 입력하세요.: '))\n",
    "\n",
    "if n == 1:\n",
    "    print('A')\n",
    "elif n == 2:\n",
    "    print('B')\n",
    "elif n == 3:\n",
    "    print('C') #분기에 포함되지 않는 else문이 숨어 있음."
   ]
  },
  {
   "cell_type": "code",
   "execution_count": 20,
   "id": "2886c87c",
   "metadata": {},
   "outputs": [
    {
     "name": "stdout",
     "output_type": "stream",
     "text": [
      "정수를 입력하세요.: 4\n"
     ]
    }
   ],
   "source": [
    "#실습 1-6\n",
    "#실습 1-5의 원래 모습\n",
    "n = int(input('정수를 입력하세요.: '))\n",
    "\n",
    "if n == 1:\n",
    "    print('A')\n",
    "elif n == 2:\n",
    "    print('B')\n",
    "elif n == 3:\n",
    "    print('C')\n",
    "else:\n",
    "    pass #pass문: 아무것도 수행하지 말고 지나치라는 키워드"
   ]
  },
  {
   "cell_type": "code",
   "execution_count": 25,
   "id": "bf802076",
   "metadata": {},
   "outputs": [
    {
     "name": "stdout",
     "output_type": "stream",
     "text": [
      "x값을 입력하세요.: 4\n",
      "y값을 입력하세요.: 5\n",
      "5\n",
      "c값을 입력하세요.: 6\n",
      "c는 0이 아닙니다.\n"
     ]
    }
   ],
   "source": [
    "#보충 수업 1-6\n",
    "#조건 연산자\n",
    "x = int(input('x값을 입력하세요.: '))\n",
    "y = int(input('y값을 입력하세요.: '))\n",
    "a = x if x > y else y #if x > y가 참이면 a = x를, 아니면 y를 보여줌.\n",
    "print(a)\n",
    "\n",
    "c = int(input('c값을 입력하세요.: '))\n",
    "print('c는 0입니다.' if c == 0 else 'c는 0이 아닙니다.') #c == 0이면 'c는 0입니다.'를, 아니면 'c는 0이 아닙니다.'를 출력"
   ]
  },
  {
   "cell_type": "code",
   "execution_count": null,
   "id": "5360d21e",
   "metadata": {},
   "outputs": [],
   "source": []
  }
 ],
 "metadata": {
  "kernelspec": {
   "display_name": "Python 3",
   "language": "python",
   "name": "python3"
  },
  "language_info": {
   "codemirror_mode": {
    "name": "ipython",
    "version": 3
   },
   "file_extension": ".py",
   "mimetype": "text/x-python",
   "name": "python",
   "nbconvert_exporter": "python",
   "pygments_lexer": "ipython3",
   "version": "3.8.8"
  }
 },
 "nbformat": 4,
 "nbformat_minor": 5
}
